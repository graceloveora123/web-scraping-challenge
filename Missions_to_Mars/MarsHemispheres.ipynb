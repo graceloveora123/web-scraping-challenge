{
 "cells": [
  {
   "cell_type": "code",
   "execution_count": 1,
   "metadata": {},
   "outputs": [],
   "source": [
    "from splinter import Browser\n",
    "from bs4 import BeautifulSoup\n",
    "from webdriver_manager.chrome import ChromeDriverManager"
   ]
  },
  {
   "cell_type": "code",
   "execution_count": 2,
   "metadata": {},
   "outputs": [
    {
     "name": "stderr",
     "output_type": "stream",
     "text": [
      "[WDM] - ====== WebDriver manager ======\n",
      "[WDM] - Current google-chrome version is 89.0.4389\n",
      "[WDM] - Get LATEST driver version for 89.0.4389\n"
     ]
    },
    {
     "name": "stdout",
     "output_type": "stream",
     "text": [
      "\n",
      "\n"
     ]
    },
    {
     "name": "stderr",
     "output_type": "stream",
     "text": [
      "[WDM] - Driver [C:\\Users\\gsun\\.wdm\\drivers\\chromedriver\\win32\\89.0.4389.23\\chromedriver.exe] found in cache\n"
     ]
    }
   ],
   "source": [
    "from webdriver_manager.chrome import ChromeDriverManager\n",
    "executable_path = {\"executable_path\": ChromeDriverManager().install()}\n",
    "browser = Browser('chrome', **executable_path, headless=False)"
   ]
  },
  {
   "cell_type": "code",
   "execution_count": 9,
   "metadata": {},
   "outputs": [],
   "source": [
    " url = 'https://astrogeology.usgs.gov/search/results?q=hemisphere+enhanced&k1=target&v1=Mars'\n",
    "browser.visit(url)"
   ]
  },
  {
   "cell_type": "code",
   "execution_count": 11,
   "metadata": {},
   "outputs": [
    {
     "name": "stdout",
     "output_type": "stream",
     "text": [
      "<div class=\"item\">\n",
      " <a class=\"itemLink product-item\" href=\"/search/map/Mars/Viking/cerberus_enhanced\">\n",
      "  <img alt=\"Cerberus Hemisphere Enhanced thumbnail\" class=\"thumb\" src=\"/cache/images/39d3266553462198bd2fbc4d18fbed17_cerberus_enhanced.tif_thumb.png\"/>\n",
      " </a>\n",
      " <div class=\"description\">\n",
      "  <a class=\"itemLink product-item\" href=\"/search/map/Mars/Viking/cerberus_enhanced\">\n",
      "   <h3>\n",
      "    Cerberus Hemisphere Enhanced\n",
      "   </h3>\n",
      "  </a>\n",
      "  <span class=\"subtitle\" style=\"float:left\">\n",
      "   image/tiff 21 MB\n",
      "  </span>\n",
      "  <span class=\"pubDate\" style=\"float:right\">\n",
      "  </span>\n",
      "  <br/>\n",
      "  <p>\n",
      "   Mosaic of the Cerberus hemisphere of Mars projected into point perspective, a view similar to that which one would see from a spacecraft. This mosaic is composed of 104 Viking Orbiter images acquired…\n",
      "  </p>\n",
      " </div>\n",
      " <!-- end description -->\n",
      "</div>\n",
      "\n",
      "<div class=\"item\">\n",
      " <a class=\"itemLink product-item\" href=\"/search/map/Mars/Viking/schiaparelli_enhanced\">\n",
      "  <img alt=\"Schiaparelli Hemisphere Enhanced thumbnail\" class=\"thumb\" src=\"/cache/images/08eac6e22c07fb1fe72223a79252de20_schiaparelli_enhanced.tif_thumb.png\"/>\n",
      " </a>\n",
      " <div class=\"description\">\n",
      "  <a class=\"itemLink product-item\" href=\"/search/map/Mars/Viking/schiaparelli_enhanced\">\n",
      "   <h3>\n",
      "    Schiaparelli Hemisphere Enhanced\n",
      "   </h3>\n",
      "  </a>\n",
      "  <span class=\"subtitle\" style=\"float:left\">\n",
      "   image/tiff 35 MB\n",
      "  </span>\n",
      "  <span class=\"pubDate\" style=\"float:right\">\n",
      "  </span>\n",
      "  <br/>\n",
      "  <p>\n",
      "   Mosaic of the Schiaparelli hemisphere of Mars projected into point perspective, a view similar to that which one would see from a spacecraft. The images were acquired in 1980 during early northern…\n",
      "  </p>\n",
      " </div>\n",
      " <!-- end description -->\n",
      "</div>\n",
      "\n",
      "<div class=\"item\">\n",
      " <a class=\"itemLink product-item\" href=\"/search/map/Mars/Viking/syrtis_major_enhanced\">\n",
      "  <img alt=\"Syrtis Major Hemisphere Enhanced thumbnail\" class=\"thumb\" src=\"/cache/images/55a0a1e2796313fdeafb17c35925e8ac_syrtis_major_enhanced.tif_thumb.png\"/>\n",
      " </a>\n",
      " <div class=\"description\">\n",
      "  <a class=\"itemLink product-item\" href=\"/search/map/Mars/Viking/syrtis_major_enhanced\">\n",
      "   <h3>\n",
      "    Syrtis Major Hemisphere Enhanced\n",
      "   </h3>\n",
      "  </a>\n",
      "  <span class=\"subtitle\" style=\"float:left\">\n",
      "   image/tiff 25 MB\n",
      "  </span>\n",
      "  <span class=\"pubDate\" style=\"float:right\">\n",
      "  </span>\n",
      "  <br/>\n",
      "  <p>\n",
      "   Mosaic of the Syrtis Major hemisphere of Mars projected into point perspective, a view similar to that which one would see from a spacecraft. This mosaic is composed of about 100 red and violet…\n",
      "  </p>\n",
      " </div>\n",
      " <!-- end description -->\n",
      "</div>\n",
      "\n",
      "<div class=\"item\">\n",
      " <a class=\"itemLink product-item\" href=\"/search/map/Mars/Viking/valles_marineris_enhanced\">\n",
      "  <img alt=\"Valles Marineris Hemisphere Enhanced thumbnail\" class=\"thumb\" src=\"/cache/images/4e59980c1c57f89c680c0e1ccabbeff1_valles_marineris_enhanced.tif_thumb.png\"/>\n",
      " </a>\n",
      " <div class=\"description\">\n",
      "  <a class=\"itemLink product-item\" href=\"/search/map/Mars/Viking/valles_marineris_enhanced\">\n",
      "   <h3>\n",
      "    Valles Marineris Hemisphere Enhanced\n",
      "   </h3>\n",
      "  </a>\n",
      "  <span class=\"subtitle\" style=\"float:left\">\n",
      "   image/tiff 27 MB\n",
      "  </span>\n",
      "  <span class=\"pubDate\" style=\"float:right\">\n",
      "  </span>\n",
      "  <br/>\n",
      "  <p>\n",
      "   Mosaic of the Valles Marineris hemisphere of Mars projected into point perspective, a view similar to that which one would see from a spacecraft. The distance is 2500 kilometers from the surface of…\n",
      "  </p>\n",
      " </div>\n",
      " <!-- end description -->\n",
      "</div>\n",
      "\n"
     ]
    }
   ],
   "source": [
    "html = browser.html\n",
    "soup = BeautifulSoup(html, 'html.parser')\n",
    "\n",
    "items = soup.find_all('div', class_=\"item\")\n",
    "\n",
    "for item in items:\n",
    "    print(item.prettify())"
   ]
  },
  {
   "cell_type": "code",
   "execution_count": 14,
   "metadata": {},
   "outputs": [
    {
     "name": "stdout",
     "output_type": "stream",
     "text": [
      "/search/map/Mars/Viking/cerberus_enhanced\n",
      "/search/map/Mars/Viking/schiaparelli_enhanced\n",
      "/search/map/Mars/Viking/syrtis_major_enhanced\n",
      "/search/map/Mars/Viking/valles_marineris_enhanced\n"
     ]
    }
   ],
   "source": [
    "img_url_list = []\n",
    "\n",
    "for item in items:\n",
    "    title = item.find('h3').text\n",
    "    part_img_url = item.find('a', class_='itemLink product-item')['href']\n",
    "    print(part_img_url)\n",
    "    browser.visit('https://astrogeology.usgs.gov' + part_img_url)\n",
    "    part_img_url=browser.html\n",
    "    soup=BeautifulSoup(part_img_url,'html.parser')\n",
    "    img_url='https://astrogeology.usgs.gov'+soup.find('img',class_='wide-image')['src']\n",
    "    img_url_list.append({\"title\": title, \"img_url\":img_url})\n",
    "img_url_list\n"
   ]
  },
  {
   "cell_type": "code",
   "execution_count": null,
   "metadata": {},
   "outputs": [],
   "source": []
  }
 ],
 "metadata": {
  "kernelspec": {
   "display_name": "Python 3",
   "language": "python",
   "name": "python3"
  },
  "language_info": {
   "codemirror_mode": {
    "name": "ipython",
    "version": 3
   },
   "file_extension": ".py",
   "mimetype": "text/x-python",
   "name": "python",
   "nbconvert_exporter": "python",
   "pygments_lexer": "ipython3",
   "version": "3.8.5"
  }
 },
 "nbformat": 4,
 "nbformat_minor": 4
}
